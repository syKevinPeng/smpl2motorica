{
  "cells": [
    {
      "cell_type": "markdown",
      "metadata": {
        "id": "view-in-github",
        "colab_type": "text"
      },
      "source": [
        "<a href=\"https://colab.research.google.com/github/syKevinPeng/smpl2motorica/blob/main/playground/smpl_viz.ipynb\" target=\"_parent\"><img src=\"https://colab.research.google.com/assets/colab-badge.svg\" alt=\"Open In Colab\"/></a>"
      ]
    },
    {
      "cell_type": "code",
      "execution_count": null,
      "metadata": {
        "id": "gvP2MhINWjUk"
      },
      "outputs": [],
      "source": [
        "from pathlib import Path\n",
        "import pandas as pd\n",
        "import pickle\n",
        "import matplotlib.pyplot as plt\n",
        "import numpy as np\n",
        "import sys, os\n",
        "import cv2\n",
        "import smplx\n",
        "import torch\n",
        "from tqdm import tqdm"
      ]
    },
    {
      "cell_type": "code",
      "source": [
        "from google.colab import drive\n",
        "drive.mount('/content/drive')"
      ],
      "metadata": {
        "id": "ouKBHVBLWqJX",
        "outputId": "26faf79d-f456-4db1-ec97-b3122d8e55e2",
        "colab": {
          "base_uri": "https://localhost:8080/"
        }
      },
      "execution_count": 1,
      "outputs": [
        {
          "output_type": "stream",
          "name": "stdout",
          "text": [
            "Mounted at /content/drive\n"
          ]
        }
      ]
    },
    {
      "cell_type": "code",
      "execution_count": null,
      "metadata": {
        "id": "RNRFpt7EWjUl"
      },
      "outputs": [],
      "source": [
        "def get_SMPL_skeleton_names():\n",
        "    return [\n",
        "        \"pelvis\",\n",
        "        \"left_hip\",\n",
        "        \"right_hip\",\n",
        "        \"spine1\",\n",
        "        \"left_knee\",\n",
        "        \"right_knee\",\n",
        "        \"spine2\",\n",
        "        \"left_ankle\",\n",
        "        \"right_ankle\",\n",
        "        \"spine3\",\n",
        "        \"left_foot\",\n",
        "        \"right_foot\",\n",
        "        \"neck\",\n",
        "        \"left_collar\",\n",
        "        \"right_collar\",\n",
        "        \"head\",\n",
        "        \"left_shoulder\",\n",
        "        \"right_shoulder\",\n",
        "        \"left_elbow\",\n",
        "        \"right_elbow\",\n",
        "        \"left_wrist\",\n",
        "        \"right_wrist\",\n",
        "        \"left_hand\",\n",
        "        \"right_hand\",\n",
        "    ]\n",
        "\n",
        "\n",
        "def SMPL_output_video(joints, vertices, model):\n",
        "    for i in tqdm(range(joints.shape[0]), desc=\"Generating SMPL video\"):\n",
        "        fig = plt.figure(figsize=(10, 10))\n",
        "        ax = SMPL_visulize_a_frame(fig, joints[i], vertices[i], model)\n",
        "        ax.set_title(f\"SMPL frame {i}\")\n",
        "        plt.savefig(f\"smpl_frame_{i:04d}.png\")\n",
        "        plt.close(fig)\n",
        "\n",
        "    # compile the video\n",
        "    image_folder = \".\"\n",
        "    video_name = \"smpl_video.mp4\"\n",
        "    images = [img for img in os.listdir(image_folder) if img.endswith(\".png\")]\n",
        "    frame = cv2.imread(os.path.join(image_folder, images[0]))\n",
        "    height, width, layers = frame.shape\n",
        "\n",
        "    fps = 6  # Set frames per second\n",
        "    video = cv2.VideoWriter(\n",
        "        video_name, cv2.VideoWriter_fourcc(*\"mp4v\"), fps, (width, height)\n",
        "    )\n",
        "\n",
        "    for image in images:\n",
        "        video.write(cv2.imread(os.path.join(image_folder, image)))\n",
        "\n",
        "    cv2.destroyAllWindows()\n",
        "    video.release()\n",
        "    # remove the images\n",
        "    for image in images:\n",
        "        os.remove(os.path.join(image_folder, image))\n",
        "\n",
        "    return video_name\n",
        "\n"
      ]
    },
    {
      "cell_type": "markdown",
      "metadata": {
        "id": "KvANQR8NWjUl"
      },
      "source": [
        "# Visualize SMPL model from the asit dataset\n"
      ]
    },
    {
      "cell_type": "code",
      "execution_count": null,
      "metadata": {
        "id": "4BzLE1hZWjUm"
      },
      "outputs": [],
      "source": [
        "def SMPL_visulize_a_frame(joints, vertices, model, output_name=\"test.png\"):\n",
        "    from vispy.scene.visuals import Mesh, Markers, Text\n",
        "    from vispy.io import write_png\n",
        "    from vispy import scene\n",
        "    from vispy.app import use_app\n",
        "    # use_app('ipynb_webgl')\n",
        "\n",
        "    # Create a canvas and view\n",
        "    canvas = scene.SceneCanvas(keys=\"interactive\", size=(800, 600), show=True)\n",
        "    view = canvas.central_widget.add_view()\n",
        "    view.camera = \"turntable\"\n",
        "\n",
        "    # Center and adjust the camera\n",
        "    view.camera.center = vertices.mean(axis=0)\n",
        "    view.camera.distance = np.linalg.norm(vertices.max(axis=0) - vertices.min(axis=0)) * 2\n",
        "\n",
        "    # Create a mesh visual for the SMPL model\n",
        "    mesh = Mesh(\n",
        "        vertices=vertices,\n",
        "        faces=model.faces,\n",
        "        color=(1.0, 1.0, 0.9, 1.0)  # Fully opaque\n",
        "    )\n",
        "    view.add(mesh)\n",
        "\n",
        "    # Create a scatter visual for the joints\n",
        "    scatter = Markers()\n",
        "    scatter.set_data(joints, face_color=\"red\", size=10)\n",
        "    view.add(scatter)\n",
        "\n",
        "    # Add joint names as text visuals\n",
        "    joint_names = get_SMPL_skeleton_names()\n",
        "    for i, joint in enumerate(joints):\n",
        "        text = Text(\n",
        "            f\"{i}:{joint_names[i]}\",\n",
        "            pos=joint,\n",
        "            color=\"blue\",\n",
        "            font_size=10,\n",
        "            anchor_x=\"left\",\n",
        "            anchor_y=\"bottom\",\n",
        "        )\n",
        "        view.add(text)\n",
        "\n",
        "    # Return the canvas for display in Jupyter\n",
        "    return canvas"
      ]
    },
    {
      "cell_type": "markdown",
      "metadata": {
        "id": "Nhq5uZiiWjUm"
      },
      "source": [
        "## Loading the file\n"
      ]
    },
    {
      "cell_type": "code",
      "execution_count": null,
      "metadata": {
        "id": "TVSW52GBWjUm",
        "outputId": "a5cf40c9-d014-491a-e315-fb1381b4d07b"
      },
      "outputs": [
        {
          "name": "stdout",
          "output_type": "stream",
          "text": [
            "dict_keys(['smpl_loss', 'smpl_poses', 'smpl_scaling', 'smpl_trans'])\n"
          ]
        }
      ],
      "source": [
        "amass_data_root = Path(\"../data/AIST++/gBR_sBM_cAll_d04_mBR0_ch01.pkl\")\n",
        "smpl_model_path = Path(\"/content/drive/MyDrive/smpl/models\")\n",
        "if not amass_data_root.exists():\n",
        "    raise FileNotFoundError(f\"AMASS data root {amass_data_root} does not exist. \")\n",
        "if not smpl_model_path.is_dir():\n",
        "    raise FileNotFoundError(f\"SMPL model path {smpl_model_path} does not exist. \")\n",
        "\n",
        "\n",
        "# load the data\n",
        "data = np.load(amass_data_root, allow_pickle=True)\n",
        "print(data.keys())\n",
        "# sample every 10 frames => 6fps\n",
        "sample_indices = np.arange(0, data[\"smpl_poses\"].shape[0], 10)\n",
        "poses = data[\"smpl_poses\"][sample_indices]\n",
        "root_trans = data[\"smpl_trans\"][sample_indices]\n",
        "scale = data[\"smpl_scaling\"].reshape(1, 1)\n",
        "# create human model\n",
        "smpl_model = smplx.create(\n",
        "    model_path=smpl_model_path,\n",
        "    model_type=\"smpl\",\n",
        "    return_verts=True,\n",
        "    batch_size=len(poses),\n",
        ")"
      ]
    },
    {
      "cell_type": "code",
      "execution_count": null,
      "metadata": {
        "id": "rUlPc3f_WjUm"
      },
      "outputs": [],
      "source": [
        "smpl_body_pose = poses[:, 3:]\n",
        "smpl_root_rot = poses[:, :3]\n",
        "# force the root rotation to be zero\n",
        "root_trans = root_trans - root_trans[0]\n",
        "# root_trans = np.zeros_like(root_trans)\n",
        "\n",
        "smpl_output = smpl_model(\n",
        "    global_orient=torch.tensor(smpl_root_rot, dtype=torch.float32),\n",
        "    body_pose=torch.tensor(smpl_body_pose, dtype=torch.float32),\n",
        "    transl=torch.tensor(root_trans, dtype=torch.float32),\n",
        "    # global_orient = torch.tensor(smpl_root_rot, dtype=torch.float32),\n",
        "    scale=torch.tensor(scale, dtype=torch.float32),\n",
        ")\n",
        "smpl_joints_loc = smpl_output.joints.detach().cpu().numpy().squeeze()\n",
        "smpl_vertices = smpl_output.vertices.detach().cpu().numpy().squeeze()"
      ]
    },
    {
      "cell_type": "code",
      "execution_count": null,
      "metadata": {
        "id": "QG7AwZJ6WjUm"
      },
      "outputs": [],
      "source": [
        "# np.set_printoptions(suppress=True)\n",
        "# np.round(root_trans, 2)"
      ]
    },
    {
      "cell_type": "code",
      "execution_count": null,
      "metadata": {
        "id": "6nwW1iroWjUn"
      },
      "outputs": [],
      "source": [
        "smpl_joints_loc = smpl_joints_loc[:, : len(get_SMPL_skeleton_names()), :]\n"
      ]
    },
    {
      "cell_type": "code",
      "execution_count": null,
      "metadata": {
        "id": "DpFL7K1BWjUn",
        "outputId": "4bb1531b-6aed-4a0e-dbad-453dde403c9c"
      },
      "outputs": [
        {
          "data": {
            "text/plain": [
              "<module 'jupyter_rfb' from 'c:\\\\Users\\\\siyuan\\\\micromamba\\\\envs\\\\python310\\\\lib\\\\site-packages\\\\jupyter_rfb\\\\__init__.py'>"
            ]
          },
          "execution_count": 49,
          "metadata": {},
          "output_type": "execute_result"
        }
      ],
      "source": [
        "import jupyter_rfb\n",
        "jupyter_rfb"
      ]
    },
    {
      "cell_type": "code",
      "execution_count": null,
      "metadata": {
        "id": "LKKUhX2DWjUn",
        "outputId": "b72d5157-13b4-4227-ba38-71ef5f8b2003",
        "colab": {
          "referenced_widgets": [
            "76e36bf993874c638b9d273dcbef128c",
            "9b2b4b654b0d485790056dbf4aabefea"
          ]
        }
      },
      "outputs": [
        {
          "data": {
            "application/vnd.jupyter.widget-view+json": {
              "model_id": "76e36bf993874c638b9d273dcbef128c",
              "version_major": 2,
              "version_minor": 0
            },
            "text/plain": [
              "RFBOutputContext()"
            ]
          },
          "metadata": {},
          "output_type": "display_data"
        },
        {
          "name": "stdout",
          "output_type": "stream",
          "text": [
            "?\n"
          ]
        },
        {
          "data": {
            "application/vnd.jupyter.widget-view+json": {
              "model_id": "9b2b4b654b0d485790056dbf4aabefea",
              "version_major": 2,
              "version_minor": 0
            },
            "text/html": [
              "<div class='snapshot-9b2b4b654b0d485790056dbf4aabefea' style='position:relative;'><img src='data:image/png;base64,iVBORw0KGgoAAAANSUhEUgAAAyAAAAJYCAYAAACadoJwAAAme0lEQVR42u3de5Cd91nY8V/SAuHSAiXttClQJqSQG4HQoe1AmaEGSgOkAy0O4AJl2pRhJkBJh0mAgRA3eEJIbEJujh3H8SVOItnGsmTHthx7d6XV/W7dLEuyLNl737MXSbbj2BY9P59svHZW8u5Ku8855/n88Zlzdvfs6vuefXfm9+ic931LKeXvAQAAlkl4AAAAkEd4AAAAkEd4AAAAkEd4AAAAkEd4AAAAkEd4AAAAkEd4AAAAkEd4AAAAkEd4AAAAkEd4AAAAkEd4AAAAkEd4AAAAkEd4AAAAkEd4AAAAkEd4AAAAkEd4AAAAkEd4AAAAkEd4AAAAkEd4AAAAkEd4AAAAkEd4AAAAkEd4AAAAkEd4AAAAkEd4AAAAkEd4AAAAkEd4AAAAkEd4AAAAkEd4AAAAkEd4AAAAkEd4AAAAkEd4AAAAkEd4AAAAkEd4AAAAkEd4AAAAkEd4AAAAkEd4AAAAkEd4AAAAkEd4AAAAkEd4AAAAkEd4AAAAkEd4AAAAkEd4AAAAkEd4AAAAkEd4AAAAkEd4AAAAkEd4AAAAkEd4AAAAkEd4AAAAkEd4AAAAkEd4AAAAkEd4AAAAkEd4AAAAkEd4AAAAkEd4AAAAkEd4AAAAkEd4AAAAkEd4AAAAkEd4AAAAkEd4AAAAkEd4AAAAkEd4AAAAkEd4AAAAkEd4AAAAkEd4AAAAkEd4AAAAkEd4AAAAkEd4AAAAkEd4AAAAkEd4AAAAkEd4AAAAkEd4AAAAkEd4AAAAkEd4AAAAkEd4AAAAkEd4AAAAkEd4AAAAkEd4AAAAkEd4AAAAkEd4AAAAkEd4AAAAkEd4AAAAkEd4AAAAkEd4AAAAkEd4AAAAkEd4AAAAkEd4AAAAkEd4AAAAkEd4AAAAkEd4AAAAkEd4AAAAkEd4AAAAkEd4AAAAkEd4AAAAkEd4AAAAkEd4AAAAkEd4AAAAkEd4AAAAkEd4AAAAkEd4AAAAkEd4AAAAkEd4AAAAkEd4AAAAkEd4AAAAkEd4AAAAkEd4AAAAkEd4AAAAkEd4AAAAkEd4AAAAkEd4AAAAkEd4AAAAkEd4AAAAkEd4AAAAkEd4AAAAkEd4AAAAkEd4AAAAkEd4AAAAkEd4AAAAkEd4AAAAkEd4AAAAkEd4AAAAkEd4AAAAkEd4AAAAkEd4AAAAkEd4AAAAkEd4AAAAkEd4AAAAkEd4AAAAkEd4AAAAkEd4AAAAkEd4AAAAkEd4AAAAkEd4AAAAkEd4AAAAkEd4AAAAkEd4AAAAkEd4AAAAkEd4AAAAkEd4AAAAkEd4AAAAkEd4AAAAkEd4AAAAkEd4AAAAkEd4AAAAkEd4AAAAkEd4AAAAkEd4AAAAkEd4AAAAkEd4AAAAkEd4AAAAkEd4AAAAkEd4AAAAkEd4AAAAkEd4AAAAkEd4AAAAkEd4AAAAkEd4AAAAkEd4AAAAkEd4AAAAkEd4AAAAkEd4AAAAkEd4AAAAkEd4AAAAkEd4AAAAkEd4AAAAkEd4AAAAkEd4AAAAkEd4AAAAkEd4AAAAkEd4AAAAkEd4AAAAkEd4AAAAkEd4AAAAkEd4AAAAkEd4AAAAkEd4AAAAkEd4AAAAkEd4AAAAkEd4AAAAkEd4AAAAkEd4AAAAkEd4AAAAkEd4AAAAkEd4AAAAkEd4AAAAkEd4AAAAkEd4AAAAkEd4AAAAkEd4AAAAkEd4AAAAkEd4AAAAkEd4AAAAkEd4AAAAkEd4AAAAkEd4AAAAkEd4AAAAkEd4AAAAkEd4AAAAkEd4AAAAkEd4AAAAkEd4AAAAkEd4AAAAkEd4AAAAkEd4AAAAkEd4AAAAkEd4AAAAkEd4AAAAkEd4AAAAkEd4AAAAkEd4AAAAkEd4AAAAkEd4AAAAkEd4AAAAkEd4AAAAkEd4AAAAkEd4AAAAkEd4AAAAkEd4AAAAkEd4AAAAkEd4AEDX+Pu/H3hOdAcAtLHwAICuMTOAGEIA4KzCAwC6wszQMdcQYiABgK8JDwDoCrOHjtlDiFdFAOAFwgMAusLZhg4DCAC8QHgAQNcwhADASwoPAOgqBhAAOKfwAICuMJ9jQGY95kh0LwAECQ8A6AovGjCOvcQAsqnpkehmAAgQHgDQNeZzDMisIaQnuhcAAoQHAHSTrQscQo63QTMALKfwAIBu0vvyMv9XQpqPf6ANmgFgOYUHAHSTnm9s3t5bXjiEPPvswLPbt48eWLOmsXV0dGj868+K9ZpHSnnZmed/zquGS/mGr7zwZ7/iyVJ+aXMbbCMAnI/wAICuMTNQXNP05fL8EPLUU4NP3X57Y0t//9gDq1c3elatatx/5ZVTX3zPe072XHrpyZ5S3vqZUt7w+VL+RX/rZ337dClv3l/K5b2lvP6rZ8x64+FSfq8vehsB4DyFBwB0jbO91WrbttEDp04Nnt6zZ/TQiRPDAwcPjhzdv3/kyMqVExvXrRvbUz8u5bsapVxyfSkXX1vKP3imlO8eLOVnd7zw3/hHp6K3EQDOU3gAQFdZyEHodQipZj5+Y+tn1CFjffR2AMASCQ8A6Db1zFbrFzKIzPaDrZ/xUNPhNtgWALjQwgMAutFAUz1eY89ihpCv/gyvggDQjcIDALpZHUQOLHII6W2DfgC40MIDALLYf7ZhY2pqaHpsbKhRT9dbP64Hp5fnBpCf3lnKGw6X8tqjpfzf3rl/7qtPtM6U9asb22AbAeClhAcAZHGs6ehF5esPVL/ppokN9XZycmiqDiF1AGm9CvL2da0B5JWNUn5xa+vn1GHj4uaw8brmUPLWLaX8zzWl/OQeZ8gCoEOEBwBk0vcNzdvPNDWnha8NIKtXN7bUs2E98cTgEzNnx6q3F1/8xMbWNUG++YnWhQm/Y6o1gMz2lr7WYwwgAHSE8ACATPY2HX1V8/7VTUfL/E7b2wbdAHChhAcAZLO56fDLm/d/tMz/uiFt0A0AF0J4AEBGB5p6SusVkUcNIQAkEh4AkFk9Te/RRVwjBAA6VXgAAGX+b8UyhADQ4cIDACgLG0AMIQB0sPAAAL7KEAJAAuEBAMxiCAGgy4UHADDLQgcQgwgAHSY8AIAXMYQA0MXCAwB4kcUOIIYQADpAeAAAczCEANClwgMAOAtDCABdKDwAgLM4nwHEEAJAmwoPAOAcDCEAdJnwAABegiEEgC4SHgDASzjfAcQQAkAbCQ8AYB4MIQB0ifAAAObJEAJAFwgPAGABDCEAdLjwAAAW4EIMIIYQAAKFBwCwQOcaLMbHhxr1dv/+kSMzn5t9/9ix4UfnHkTe2hO9XQCkEB4AwCKcbQAZGhoaqbcrVkxsXLlyYsORIyPH6wBy9Ojwia1bR/f/5V+e7BkeHh75xCem+urjbrmlsamUVzxZyp9/vpSLN5byLY+X8ivNz/2HPaV8z0D0di7VcxXdBJBYeAAAi9N7rldCtm8fPbBmTaNn9+7RQ81BZOMXvjCxcdeu0Qdvu62x+cSJ4cduv72xpT7ussume3p6xneV8qHrS/n5raX80uZSfrnp//SW8qc9bbCdC+ataABtLTwAgMU52HRsvgvt+krHI48MPzbz8ZkzA2dOnx483U2LccfDAHSE8AAAFm9909SFOjC9kxfkGbcZoEOFBwBwfjY07W96NtsQYvAC6EjhAQCcv2NNG5t6sizKL/R2tvv2AnSR8AAALrBuX5gv1fDRbtsJ0KXCAwC4wJZygR69SF/qbYvePoAEwgMAWALduFBfjm0ygAAsufAAAJbIci3Yl2PRvpzbYggBWFLhAQAsoW5YuC/3NhhAAJZUeAAAS6zTF+8GEICuEh4AwDLo5EV8J7cD8HXCAwBYJp26kO/UbgDmFB4AwDLpxIV8RLMBBGBJhQcAsIw6bTFvAAHoOuEBACyzTlnQRw0fBhCAJRUeAECQ812knz49eLrerlw5sXH//pEj9f7M7bkX9a8+sdRthg+AthUeAECg81mo79kzemhm6Jhxzz3j/U89NfjU5z8/sWHv3pHDIyNDox/+8FRvfdzx48MDpbz+SCl/0VPKf1pfyn/vL+XNe1ufe/PBUn5h6+23N7ZceeVU39q14/11sDGAAHSd8AAAAl2IBfuNN0701+FjYmJosg4N69eP7dm5c/RgVQeKLVvG9tXH3XprY9O7332qtz6mlHfeUsrFzdvfXV3Ke3p27Bg9ePfd49vr8HHZZdM973zn6evO9W8+/fTA0w8+OPLwyZODp2Y+N9erL/VVmtpjAAFoG+EBAARailcQ1q4d33HddZPrZ39ucHB4+EL+G8PDQ6OnTg2evvPOxtYzZwbO1J9fX2lZvbrRUweddevGtn70o1N9daC5/vrJfsMHQNsIDwAgSORxFhfCiRPDA4cPjzxy880Tm+qrL/UVkDqA1GGkv3/sgRUrJjbecMNEfx1IDCAAbSM8AIAA0cNDO4r+nQAkER4AwDKLXui3o+jfCUAi4QEALKPohX47iv6dACQTHgDAMole6Lej6N8JQELhAQBcYJEL+pGRobF6/Y96f926509/O3MWrJlT5U5ODk3N9f1f/OL4tgt9xiyDB0BbCQ8A4AKIfiVhxhNPDD5RT4/78MPDJ+rZp+rpcj/4wenehx4aOXb55dO9l18+9Xef/OTUunptjgMHRo7W76nXCrnqqskv1euDzFxH5E//9FRP/RkzjzF0AHSN8AAAFil62DibOoDUweHP//xkz8DA8HB91WPLltHdH/nIVN9ddzXW1Y/rBQJnHv/Zz07018Hl6qsn191xR2NrT8/4lptvnuhfu3Z8Q/34C19oXRG9Dif1e+urJPWq6vX+Lbc0NtXbsz030b8jAL5OeAAA8xQ9WJyPoaGhkT17Rg/Nvlr50aPDJ+a6evmMBx4YfejQoZFjM0NNHUA++9nJu97//umeFSsa97UGjNVbSvnW09G/GwDmLTwAgBeJHhbaST0epA4pzzwz8Ey9rXp7x3bv3j16oJTvmCrljYdLef2R6N8ZAPMWHgDQ9aIX8d0q+vcKwKKEBwB0pejFebeL/v0CsGjhAQBdJXphnkX07xmARQsPAOga0YvyTKJ/1wAsWngAQFeIXpBnE/37BmDRwgMAOlr0Qjyr6N87AIsWHgB0iYwLw+hFeKRjx4Yfvffe8R3zffzJk4OnDCEAlDYIALpAxkVh9AAQbefO0YOrVze21AsM/s3fTPU+/PDwib6+sd3NoWTD3r0jh7dvHz2we/fooQ9/eKq3Pr5eVNCrIQCUNggAukCmBWH0wr9dTE4OTd111/i2kZGhsdHRofE772xsveWWxqa77x7v37p1dH8dRoaHh0aPHx8eOHJk5Pj110/2L2VP9H4BwLyFBwBdINOCMHrh384eemjk2Pn+jEOHRo7Vq5/PvL2rOdBsr7df+crgV665ZnJdvRL6i7/nwIGRo489NjwUvW8AMC/hAUAXyDKARC/wM9i8eWzf008PPP3Hf3yqpw4dK1dObHz/+6d7moPI+k98Ymp1/bg+rnm/7847G30HD44cveKKqdtOnx48Xd8SVsrKjaX8v57ofQWAswoPALpAhrfFRC/Ms6jHkjz55OCTvb1ju3t6xnd98Yvj266+enJd/Vp99aMOHPV+PabknnvG+x9/fPDx5uDRc+rU4On6FrA6oJTyr49F7y8AnFV4ANAFun0AiV6UR6sL/7ne+vTiz53tcRe6pQ4Zhw+PPNLt+x1AlwoPALpANy8Eoxf/7aAu+OvCf2xsqFFfkdizZ/TQs88OPFuP+bjyyqm+np7xzZ/5zOT6xx4bHhgfH2pE93bLvgfQpcIDgC7QrQvB6EV0u1i1qrH56qsnb7/ttsbmj31sqm96evDkpz41ue7++8d3rV8/tueKK6ZvueSSJzbcccd47xe+0DpGI1r0vgPAWYUHAB2uWxeC0QvodjY1NTS9FBcWNIAApBAeAHS4eSwENzVtje68kNu0VOpZn+rZnOb62o4dowfrwdmzPzdzvMXMgdkYQgA6QHgA0OHmuRAca1of3XqhtmcpXXfd5Pq1a8d3fPrTk+t37x7df+21k+vr257qmaDq256qmcdeddXkukcfHR6sZ4Gqx2fU62HMHkxebKkPEG830fsSAHMKDwA63HwWgm9oPXagaXd07/luy1IPH/Vie3WoqNfD2LZt9MA73nG67447Glvrx/XK4/X6FzOPrweH79w5evCd7zx93b59I4frAFJ/Rj1D1MwF/OrbpWYuEPiRj0zdVn92fSXl2LHhR6O393zNDFQnTgwPnDkzcKZeP2Tma/fc09r+F/6Ov6tRyjc+Nffv//VHovc/gCTCA4AON9/F4je1Ht8b3Xu+27Hc6pBx/fWT/bM/d/To8Il6IPhcr2zUg8Dr1+vbuepQUq+lUYeUOnA0f859N9ww0d8ccu7ZsGFs+4vf7vWlL43vfPG/f+ONE/3Rz8G5npvJyaGpSy892bNmTaNn5gKGf/Inp3o2bRrbW4eQ1u/3xx8o5S3bSnlHXyn/dVMpb91Syvc0B+Kf3FPKv91Xyvc27/9Bb+v+O5u3v9FvIAFYMuEBQIeb72Lxx1uPP9j0WHTzYrehE8y+Fke9MN/Mxw8+OPLwzOfvu298R716+Mc/PvW5OmB86EPTvfWVl3q2q7/+6+neD3xguvd97zvZUxf4dYCJ3qZzbWt95aPe9vePbT9+fHigNh86NHKsDmH1LF2t3/E/HS/l1zaU8n2PlvIzO1rDyD8+WcqPPFjKDz1Uyj8fKeWina1XSL57sPX1+P0SoEuFBwAd7lwLxHp16nrb1ze2+22txw+U8v2zjgV53dFSXjX8wp/5C8t6wHr0IjrCyMjQ2FNPDT5V79e3at16a2NTvY7HvfeO7zhyZOR4vdbHzFu9mgv7B6J7z/dVEq9mALSV8ACgw53rf6fr/6jX4xfqIrYev1DKG+8r5eI1pbzpUCmvbJTym/3Nj5sLxNc80vp5L3+29VaYev+fjZXyA8dK+e31rf+Vrm+fWfrujOqAGN2wlKL/RgB4gfAAoMOda+FX34d/880Tm2b+J708dyasS5qDxId6S/n1Da334tcB5BVPtn7eNz9Ryi9tLuU/7irlVzaV8lvNAeU7pkp528bWx8vTfaHVYWxwcHi4vuowc6aqZ54ZeGb2AeVVfetQ9GK9G0X/jQDwAuEBQOc766ld61Wy63vxr7xyqq8uwkt5zepS3ni4NVjUg4F/tTlY/ODDrfszP6++XeanmgPIJRta9//XutYrJH/Ye6Gal3Px+8QTg09cfvl07549o4eefXbg2Wuvnbxj167RB5sO1OMsVqx4/srh733vyZ56Wx9fB5V6Ct76FqJ6LEd9i9R8h52ZYz1mH1R+000TG2bu1456Jqx6/ESGoacN/kYAeF54ANAFzn8hWN9qdfGyvFd/uRe/Dzww+lA9sLsOYbt3jx684orpW+qgUc9QVd+iVk+1O/PYeoaqOjysXt3YUr9WDwyvg0t9pWTDhvkfi1GHljvvbGytA0j9GfVMUfXsWPVUvvXr9WxRdfCo/9aaNY3e0dGh8W6/Rkj03wgAXxMeAHSBTlkIRi6AZ16ZqPbuHTlcT4s783EdMuorRTNDwOzb2RYygNTb5nCxtQ4v9UxW9cDymWuD1IsW1ldA6pDz7nefuqG+wlJP1Rs9JBhAAFIIDwC6QDsvBKMXvu2mHnA++6Dzbn/lwwAC0HbCA4Au0G4LwejFLu0p+u8EgOeEBwBdoB0WgtGLW5bmd91OLQBcEOEBQJeIWAxGL65ZngV+JzQCMG/hAUCXWI4FYfQCm7jFfCc2AzCn8ACgC0QvhOnu4eNC72fRfy8AyYUHAF0gejG8GPXsTy8+9ewjjww/Nvvrc31PdHe0btnPov9mABILDwC6QPSieDHqhf3qRQKnpwdP1quODw0NjWzePLq7Dhn1IoEf//hU3zPPDDxz333PX038+usn+wcHh4fXrh3fUYeVepG/ek2Nq6+eXFcv5he9Td08fFzofS16OwASCw8AukD0wngxnnpq8Klbb21s2rRpbNfMhftuvHGy54/+6FRvfWXk/vvHd9ULBNZhZOZ76uPqgFIvIlgfU4eUOsjUi/1t3Di291yL3ejt7aYFezduE0Ai4QFAF4heHC/WzNXIv/zlwS/Xjx96aPjYlVdO9d177/iOmcccPz48UK8oXq8mfr6L2+jt7ZaFerduF0AS4QFAh4teHLejbnrOovevpX4Oo7cDIKHwAKDDRS+Q20m3PX/R+9ZyPG/R2wGQUHgA0OHmu9CrB3TfeONE/4oVreMttm0bPTDztfq57dtH957r+2+6aWLDmTMDZ264YaI/emG+VAvZ6G3otIV5pm0F6CLhAUAHW+hCrx5vMXOWqaefHnj6ssume97znpM973rXqd4rrpi6beY0t43G0EQ9w1Rv79iWa6+dXP+BD0z3vve9J3vqEFMPHK8Hitfv6/ZFejduUzs+R9HbAJBMeADQwRa60PvYx6b6ZgaR7dtHD9RXRHbtGn3w9tsbW+oZph5/fPDx+vV6uttNm8b2XnXV1B39/WMP1K+/730ne+pjb7utsbkOHws9KLxTF+nduE3t+BxFbwNAIuEBQAdb7GLvyScHn5zr8/v2jTxUB4uZQaTddNrz3M7b1I7PT/R2ACQRHgB0sOiBoFsHjuV4vqO3pR2fm+htAEgiPADoYNEDQrYB5Hyf9+judn1esj1PAMHCA4AO1k6L/+h/vx1/D9Fd7fRcZNkXADpAeADQwdplcWfRyVLvD/YLgAsmPADocO2wiLPQZDn2CfsIwAURHgB0uHZYsFlcslz7hX0F4LyFBwBdIHKBZkHJcu8f9h2A8xIeAHSByAWZRSTLvX/YjwDOS3gA0GWWe+Fl4ciF3Ef27x85Mtf9c33OvgWwIOEBAOfFAMI89Mz1ex4eHhpdvbqx5bLLpns++MHp3iNHRo5fc83kXZ/61OS6z31uYt2qVY3Ng4PDw7O/55OfnLrjyiun+jZsGNv++c9PbNi8eWxnHUoajaGJ89zX9jf1NvU1ravNTbsX8/fQBs83wLmEBwCcFwMI89DfdGau3/WaNY2tN900seETn5jqe+aZgWcuvfTkTXv3jhz+8IenVq1cObHxxY+vn+vvH3vgz/7s1I0HDowcveKK6Ztvvnli06c/Pbn+Qu1/r2w2v7zV3SitQeSxhfwNtMHzDXAu4QEAi+a9+8zTsaZ93zvHPlNfvZjx5JODT9bbXbtGH9yxY3Rf/frOnaP766Ax+3Ezb8M6eHDk6OyfEXm8if0X6CDhAQCLZvHGAmxsGv9XS7TftIM2eI4B5iM8AGDRLOJYoDqEHFiqfcfwATAv4QEAi2YhxyIcbVpfnj/gu6dpR/QAYT8GEgkPAFg0Czc6bf+ajy9+cXzbY48ND9WzbJ06NXi6fu7YseFH6+3TTw88feDAyJFnnx14dq7vrQfS19vjx4cH7NtAmwoPAFg0Awidvr/N5ZFHhh+rg8b994/vqqcJrge4f/CD0ytvvHGif8+e0UPXXDO5duaxdUhZsWJi41/91fTN9XFXXDF9y759I4c/+tGpvomJoUn7OtCGwgMAFs3wQbu4kPthvQ5JPbVvPT1wfUXjzJmBM3feOd53222NzQMDw8MPPTRy7PHHBx+vj73qqsl1mzeP7XvggZFD9eM6hNTvX7dubI/9HmhT4QEAi+LVD7rAYNOGf7iI/bkOGnNdp2Q++7b9HggWHgCwKAYQusTBpi31/mubfn2J9m37ONBGwgMAFsXCjC7ySGmdlWtX01DTcNO+hey/9903vrMe83HDDRP99eNbbmlsmrk44tq149t27hw9WO/ffff49uf3+X851Pr3v/94Ka94spTf6G+D5wLofuEBAItiAKFLHW56qGlgIfv5vfeO76gHrr/rXad6JyeHpm69tTWAlPKbzaHi4o11QKmPq2/bqseHrF7d6K/HmNxxR2NrKf9lS2v4+MWtbbD9QPcLDwBYFAMI2Zxt362Dx6c/Pbl+69bR/atWNTbXg9K/9KXxnTt2jB48cWJ4oDWI/NZXX914/XOvihw9OnKsHuheT+/b+vo3P1HKL2+O3kYghfAAgEUxfJDU5rPtx2uaX/+J1mMet68DbSw8AGBRDCAktq5p6JvKnGe0apTW8STn/Dtpg20A8goPAFgUwwfJ7S6tQWN/04n57NP2faBNhAcALIoBBJ5TD1Y/1vSY/RroEOEBAIti+ICX/ruI7gGYQ3gAwIJ59QPm9zcS3QEwh/AAgAUzfABAxwoPAFgwAwgAdKzwAIAFM3wAQMcKDwBYMAMIAHSs8ACABTN8AEDHCg8AWDADCAB0rPAAgAUzgABAxwoPAFgwwwcAdKzwAIAFM4AAQMcKDwBYMMMHAHSs8ACABTOAAEDHCg8AWDDDBwB0rPAAgAUzgABAxwoPAFgwAwgAdKzwAIAFM3wAQMcKDwBYMAMIAHSs8ACABTF8AEBHCw8AWBADCAB0tPAAgAUxfABARwsPAFgQAwgAdLTwAIB58/YrAOh44QEA82b4AICOFx4AMG8GEADoeOEBAPPi7VcA0BXCAwDmxQACAF0hPADgXAaaTtT7BhAA6ArhAQBz2dq0rulA09GLLvqJnZde+kc9O3fec3CeA8jBNtgGAODrhQcAvFhP08lva97/8ab/3PT6ppc1velNrzu0atW1m+fx6kdfG2wHAPD1wgMAZuttevrnmvfvbnq0abTpUNMnml7V9AM/8Opj/f2rHjjbAPLtrZ9jAAGA9hQeADDj0Gte832PLORYj+qTn5xa9/DDwydmPv7O8m2ny9cGkJ/Z0bp9ZaOUb3n87P/2z21v3b51Sxs8DwDQzcIDABY0cLzYhz403Xv48MgjY2NDjUvKu3tfVv5wVSnvuKaUn95Zys82B4qLN5bye83P/bt9rX/v1SdKWdH83O/c1fx6c0D55c2l/I/1pbzuaCl/8HelrNzY+p745wUAulB4AMB5DSArVkxsrK+CPPro8OBPlh8+VMp/u7eUi24u5bebQ8W/39v6N37nzlJ+bH/r/psPtoaRP7i99fEvbC3lD3tb999+RymvP1LKPz4Z/ZwAQJcKDwA454AxOTk0dcstjU1f+crgV+65Z3x7/dz+/SNHVq6c2PjlLw9++dix4UdvvbWx6W3lOydLecu2Un7oplJ+/+9K+bUNzUFjVyl/0dMaKt5wuJSf2tz83O7Wx1X8tgNAMuEBAOccQM6cGTizZk1ja72/du34jtkDyH33je/827+d6t2+ffRAKT+3qZQf/lwpP3b/C99CVe/XVzzq261+t6/1lqt3rIneZgBIKjwA4DkHD/YdPdsQ8tnPTvTX21WrGs+dgndwcGh4167RB++6a3xbHUYuu2y6p5SfuLGUbz1dypubw8a/OfD8z/6RB0v5/ebg8b/XlfKmQ6W8rTmQ/Oi+1jEf8dsNAMmEBwDM1t908oea969t2tt0pJz7FZL6SkjrbVazf049E9Zrj7bOfhW+TQDA88IDAF6sXgH9RL3w4Pc0vbbpnzS97GUvO/OWt1y0bf362/ac5eKDAED7Cw8AmEs9Y1XP29721o0///MXbX372y9Zd911H17/8MObTsz1Kkgb9AIA8xMeAPCSXupUvNF9AMC8hQcAzJvhAwA6XngAAACQR3gAAACQR3gAAACQR3gAAACQR3gAAACQR3gAAACQR3gAAACQR3gAAACQR3gAAACQR3gAAACQR3gAAACQR3gAAACQR3gAAACQR3gAAACQR3gAAACQR3gAAACQR3gAAACQR3gAAACQR3gAAACQR3gAAACQR3gAAACQR3gAAACQR3gAAACQR3gAAACQR3gAAACQR3gAAACQR3gAAACQR3gAAACQR3gAAACQR3gAAACQR3gAAACQR3gAAACQR3gAAACQR3gAAACQR3gAAACQR3gAAACQR3gAAACQR3gAAACQR3gAAACQR3gAAACQR3gAAACQR3gAAACQR3gAAACQR3gAAACQR3gAAACQR3gAAACQR3gAAACQR3gAAACQR3gAAACQR3gAAACQR3gAAACQR3gAAACQR3gAAACQR3gAAACQR3gAAACQR3gAAACQR3gAAACQR3gAAACQR3gAAACQR3gAAACQR3gAAACQR3gAAACQR3gAAACQR3gAAACQR3gAAACQR3gAAACQR3gAAACQR3gAAACQR3gAAACQR3gAAACQR3gAAACQR3gAAACQR3gAAACQR3gAAACQR3gAAACQR3gAAACQR3gAAACQR3gAAACQR3gAAACQR3gAAACQR3gAAACQR3gAAACQR3gAAACQR3gAAACQR3gAAACQR3gAAACQR3gAAACQR3gAAACQR3gAAACQR3gAAACQR3gAAACQR3gAAACQR3gAAACQR3gAAACQR3gAAACQR3gAAACQR3gAAACQR3gAAACQR3gAAACQR3gAAACQR3gAAACQR3gAAACQR3gAAACQR3gAAACQR3gAAACQR3gAAACQR3gAAACQR3gAAACQR3gAAACQR3gAAACQR3gAAACQR3gAAACQR3gAAACQR3gAAACQR3gAAACQR3gAAACQR3gAAACQR3gAAACQR3gAAACQR3gAAACQR3gAAACQR3gAAACQR3gAAACQR3gAAACQR3gAAACQR3gAAACQR3gAAACQR3gAAACQR3gAAACQR3gAAACQR3gAAACQR3gAAACQR3gAAACQR3gAAACQR3gAAACQR3gAAACQR3gAAACQR3gAAACQR3gAAACQR3gAAACQR3gAAACQR3gAAACQR3gAAACQR3gAAACQR3gAAACQR3gAAACQR3gAAACQR3gAAACQR3gAAACQR3gAAACQR3gAAACQR3gAAACQR3gAAACQR3gAAACQR3gAAACQR3gAAACQR3gAAACQR3gAAACQR3gAAACQR3gAAACQR3gAAACQR3gAAACQR3gAAACQR3gAAACQR3gAAACQR3gAAACQR3gAAACQR3gAAACQR3gAAACQR3gAAACQR3gAAACQR3gAAACQR3gAAACQR3gAAACQR3gAAACQR3gAAACQR3gAAACQR3gAAACQR3gAAACQR3gAAACQR3gAAACQR3gAAACQR3gAAACQR3gAAACQR3gAAACQR3gAAACQR3gAAACQR3gAAACQR3gAAACQR3gAAACQR3gAAACQR3gAAACQR3gAAACQR3gAAACQxP8HGOnhwHNcLAIAAAAASUVORK5CYII=' style='width:800.0px;height:600.0px;' /><div style='position: absolute; top:0; left:0; padding:1px 3px; background: #777; color:#fff; font-size: 90%; font-family:sans-serif; '>snapshot</div></div>"
            ],
            "text/plain": [
              "CanvasBackend(css_height='600px', css_width='800px')"
            ]
          },
          "execution_count": 50,
          "metadata": {},
          "output_type": "execute_result"
        }
      ],
      "source": [
        "# visualize a frame\n",
        "frame_idx = 0\n",
        "canvas = SMPL_visulize_a_frame(\n",
        "smpl_joints_loc[frame_idx], smpl_vertices[frame_idx], smpl_model\n",
        ")\n",
        "print('?')\n",
        "canvas"
      ]
    },
    {
      "cell_type": "code",
      "execution_count": null,
      "metadata": {
        "id": "Km3Bxj8BWjUn"
      },
      "outputs": [],
      "source": [
        "# generate a video\n",
        "# SMPL_output_video(smpl_joints_loc, smpl_vertices, smpl_model)"
      ]
    },
    {
      "cell_type": "code",
      "execution_count": null,
      "metadata": {
        "id": "IAdonhqCWjUn",
        "outputId": "252b8aef-5273-4be9-e96b-541a8e8151e6"
      },
      "outputs": [
        {
          "data": {
            "text/plain": [
              "'0.14.3'"
            ]
          },
          "execution_count": 52,
          "metadata": {},
          "output_type": "execute_result"
        }
      ],
      "source": [
        "import vispy\n",
        "vispy.__version__"
      ]
    },
    {
      "cell_type": "code",
      "execution_count": null,
      "metadata": {
        "id": "iFGJaruPWjUn"
      },
      "outputs": [],
      "source": []
    }
  ],
  "metadata": {
    "kernelspec": {
      "display_name": "Python 3 (ipykernel)",
      "language": "python",
      "name": "python3"
    },
    "language_info": {
      "codemirror_mode": {
        "name": "ipython",
        "version": 3
      },
      "file_extension": ".py",
      "mimetype": "text/x-python",
      "name": "python",
      "nbconvert_exporter": "python",
      "pygments_lexer": "ipython3",
      "version": "3.10.16"
    },
    "colab": {
      "provenance": [],
      "include_colab_link": true
    }
  },
  "nbformat": 4,
  "nbformat_minor": 0
}